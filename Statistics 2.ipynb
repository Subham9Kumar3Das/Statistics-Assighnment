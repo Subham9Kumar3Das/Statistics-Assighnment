{
 "cells": [
  {
   "cell_type": "markdown",
   "id": "3078f9c6-e096-4610-91e1-f8213661b182",
   "metadata": {
    "jp-MarkdownHeadingCollapsed": true,
    "tags": []
   },
   "source": [
    "### Q1. What are the three measures of central tendency?"
   ]
  },
  {
   "cell_type": "markdown",
   "id": "77566e2f-3af6-4cb0-a65a-2b96b17b3d72",
   "metadata": {},
   "source": [
    "Ans:-The three measures of central tendency are:-\n",
    "* Mean\n",
    "* Median\n",
    "* Mode"
   ]
  },
  {
   "cell_type": "markdown",
   "id": "38272ebd-12ad-4104-95b9-f5db602760d0",
   "metadata": {
    "jp-MarkdownHeadingCollapsed": true,
    "tags": []
   },
   "source": [
    "### Q2. What is the difference between the mean, median, and mode? How are they used to measure the central tendency of a dataset?"
   ]
  },
  {
   "cell_type": "markdown",
   "id": "c6445795-2532-4a12-a668-a1c044a60122",
   "metadata": {},
   "source": [
    "Mean:\n",
    "\n",
    "The mean is often referred to as the average. To calculate the mean, you sum up all the values in the dataset and then divide by the total number of values.\n",
    "Formula: Mean (μ) = Σx / N, where Σx represents the sum of all values and N is the number of values.\n",
    "The mean is sensitive to extreme values (outliers) in the dataset. A single extremely high or low value can significantly affect the mean.\n",
    "Median:\n",
    "\n",
    "The median is the middle value when the dataset is ordered from smallest to largest. If there is an even number of values, the median is the average of the two middle values.\n",
    "The median is not affected by extreme values or outliers, making it a robust measure of central tendency.\n",
    "It is useful when dealing with skewed datasets or data with outliers, where the mean might not accurately represent the typical value.\n",
    "Mode:\n",
    "\n",
    "The mode is the value that appears most frequently in the dataset. A dataset can have one mode (unimodal), multiple modes (multimodal), or no mode if all values occur with equal frequency.\n",
    "The mode is particularly useful for categorical data, but it can be applied to numerical data as well.\n",
    "Unlike the mean and median, the mode doesn't give a measure of central location in terms of a typical value but indicates the most frequent value.\n",
    "The choice of which measure of central tendency to use depends on the characteristics of the dataset and the specific research question:\n",
    "\n",
    "Mean is appropriate for data that is roughly symmetrically distributed and without extreme outliers. It provides a measure of the arithmetic average.\n",
    "\n",
    "Median is appropriate when dealing with skewed data or datasets with extreme values because it is robust to outliers. It represents the middle value.\n",
    "\n",
    "Mode is useful when you want to identify the most common value in a dataset, and it is often used with categorical data."
   ]
  },
  {
   "cell_type": "markdown",
   "id": "a08333e8-f5c5-4168-9b70-ca07c92803e8",
   "metadata": {
    "jp-MarkdownHeadingCollapsed": true,
    "tags": []
   },
   "source": [
    "### Q3. Measure the three measures of central tendency for the given height data:\n",
    "[178,177,176,177,178.2,178,175,179,180,175,178.9,176.2,177,172.5,178,176.5]"
   ]
  },
  {
   "cell_type": "code",
   "execution_count": 4,
   "id": "71a86733-9c6a-4242-8a3a-5f132f7ce633",
   "metadata": {},
   "outputs": [
    {
     "name": "stderr",
     "output_type": "stream",
     "text": [
      "/tmp/ipykernel_118/3959295609.py:8: FutureWarning: Unlike other reduction functions (e.g. `skew`, `kurtosis`), the default behavior of `mode` typically preserves the axis it acts along. In SciPy 1.11.0, this behavior will change: the default value of `keepdims` will become False, the `axis` over which the statistic is taken will be eliminated, and the value None will no longer be accepted. Set `keepdims` to True or False to avoid this warning.\n",
      "  mode=stats.mode([178,177,176,177,178.2,178,175,179,180,175,178.9,176.2,177,172.5,178,176.5])\n"
     ]
    }
   ],
   "source": [
    "import numpy as np\n",
    "from scipy import stats\n",
    "### Mean\n",
    "mean=np.mean([178,177,176,177,178.2,178,175,179,180,175,178.9,176.2,177,172.5,178,176.5])\n",
    "### Median\n",
    "median=np.median([178,177,176,177,178.2,178,175,179,180,175,178.9,176.2,177,172.5,178,176.5])\n",
    "### Mode\n",
    "mode=stats.mode([178,177,176,177,178.2,178,175,179,180,175,178.9,176.2,177,172.5,178,176.5])"
   ]
  },
  {
   "cell_type": "code",
   "execution_count": 5,
   "id": "0960a937-6902-4836-9808-4ed008ded7e3",
   "metadata": {},
   "outputs": [
    {
     "data": {
      "text/plain": [
       "(177.01875, 177.0, ModeResult(mode=array([177.]), count=array([3])))"
      ]
     },
     "execution_count": 5,
     "metadata": {},
     "output_type": "execute_result"
    }
   ],
   "source": [
    "mean,median,mode"
   ]
  },
  {
   "cell_type": "markdown",
   "id": "4253e8ab-703a-4b26-98a0-8fd2df8d9ade",
   "metadata": {
    "jp-MarkdownHeadingCollapsed": true,
    "tags": []
   },
   "source": [
    "### Q4. Find the standard deviation for the given data:\n",
    "[178,177,176,177,178.2,178,175,179,180,175,178.9,176.2,177,172.5,178,176.5]"
   ]
  },
  {
   "cell_type": "code",
   "execution_count": 9,
   "id": "701e6a5d-9006-48fe-9ddf-4aba99393b0d",
   "metadata": {},
   "outputs": [
    {
     "data": {
      "text/plain": [
       "1.7885814036548633"
      ]
     },
     "execution_count": 9,
     "metadata": {},
     "output_type": "execute_result"
    }
   ],
   "source": [
    "standard_deviation=np.std([178,177,176,177,178.2,178,175,179,180,175,178.9,176.2,177,172.5,178,176.5])\n",
    "standard_deviation"
   ]
  },
  {
   "cell_type": "markdown",
   "id": "d08cc332-5c80-4453-8327-fe3ac9a19684",
   "metadata": {
    "jp-MarkdownHeadingCollapsed": true,
    "tags": []
   },
   "source": [
    "### Q5. How are measures of dispersion such as range, variance, and standard deviation used to describe the spread of a dataset? Provide an example."
   ]
  },
  {
   "cell_type": "markdown",
   "id": "f4bfec5b-f485-4aa4-9a59-29d24ee2207b",
   "metadata": {},
   "source": [
    "Measures of dispersion, such as range, variance, and standard deviation, are used to describe the spread or variability within a dataset. They provide information about how the data points are distributed around the central tendency (mean, median, or mode). Here's a brief explanation of each measure and an example:\n",
    "\n",
    "Range:\n",
    "\n",
    "The range is the simplest measure of dispersion and represents the difference between the maximum and minimum values in a dataset.\n",
    "Range = Maximum Value - Minimum Value\n",
    "It provides a basic understanding of how much the data values vary.\n",
    "Example: Consider the following dataset of exam scores: [60, 70, 75, 80, 90]. The range is 90 (maximum) - 60 (minimum) = 30.\n",
    "\n",
    "Variance:\n",
    "\n",
    "Variance measures the average of the squared differences between each data point and the mean.\n",
    "A higher variance indicates greater variability in the dataset.\n",
    "Variance = Σ(x - μ)² / (N - 1), where Σ represents the sum, x is each data point, μ is the mean, and N is the number of data points.\n",
    "Example: Let's say we have a dataset of ages: [25, 30, 35, 40, 45]. The mean is 35. The variance is calculated as:\n",
    "Variance = [(25-35)² + (30-35)² + (35-35)² + (40-35)² + (45-35)²] / (5-1) = 125 / 4 = 31.25\n",
    "\n",
    "Standard Deviation:\n",
    "\n",
    "The standard deviation is the square root of the variance and provides a more interpretable measure of how much the data values deviate from the mean.\n",
    "A higher standard deviation indicates greater dispersion.\n",
    "Standard Deviation = √Variance\n",
    "Example: Using the same dataset of ages, the standard deviation is the square root of the variance, which is √31.25 ≈ 5.59.\n",
    "\n",
    "In summary:\n",
    "\n",
    "Range provides a quick and simple way to understand the spread of data, but it doesn't consider all data points and can be sensitive to outliers.\n",
    "\n",
    "Variance considers all data points, but the values are squared, which might not be in the same unit as the original data.\n",
    "\n",
    "Standard Deviation is a more interpretable measure, as it is in the same unit as the original data, and it takes into account all data points.\n",
    "\n",
    "These measures help us understand how tightly or widely data points are distributed in a dataset and are essential for various statistical analyses and decision-making processes."
   ]
  },
  {
   "cell_type": "markdown",
   "id": "1fc4ab84-aa9a-43ed-83b5-b3f7beb40e47",
   "metadata": {
    "jp-MarkdownHeadingCollapsed": true,
    "tags": []
   },
   "source": [
    "### Q6. What is a Venn Diagram?"
   ]
  },
  {
   "cell_type": "markdown",
   "id": "5917cd17-1894-4528-8c76-73299383cf6d",
   "metadata": {},
   "source": [
    "A Venn diagram is a graphical representation that is used to illustrate the relationships and commonalities between sets or groups."
   ]
  },
  {
   "cell_type": "markdown",
   "id": "38bb37b7-e097-4829-ae50-fc1483991706",
   "metadata": {
    "jp-MarkdownHeadingCollapsed": true,
    "tags": []
   },
   "source": [
    "### Q7. For the two given sets A = (2,3,4,5,6,7) & B = (0,2,6,8,10). Find:\n",
    "(i) AInterB\n",
    "(ii) A ⋃ B"
   ]
  },
  {
   "cell_type": "code",
   "execution_count": 13,
   "id": "1b8e2929-e8c0-4622-b21c-d14dbd8a5093",
   "metadata": {},
   "outputs": [],
   "source": [
    "A=(2,3,4,5,6,7)\n",
    "B = (0,2,6,8,10)\n",
    "AUB=np.union1d(A,B)\n",
    "A_intersection_B=np.intersect1d(A,B) "
   ]
  },
  {
   "cell_type": "code",
   "execution_count": 14,
   "id": "99c65477-f3e7-4be1-849e-0149f7dbfd99",
   "metadata": {},
   "outputs": [
    {
     "data": {
      "text/plain": [
       "(array([ 0,  2,  3,  4,  5,  6,  7,  8, 10]), array([2, 6]))"
      ]
     },
     "execution_count": 14,
     "metadata": {},
     "output_type": "execute_result"
    }
   ],
   "source": [
    "AUB,A_intersection_B"
   ]
  },
  {
   "cell_type": "markdown",
   "id": "84ccb63c-cbc7-48e4-bcb8-02e78d8daee1",
   "metadata": {},
   "source": [
    "### Q8. What do you understand about skewness in data?"
   ]
  },
  {
   "cell_type": "markdown",
   "id": "f8932812-711e-4a1b-80ec-431eb1e9125e",
   "metadata": {},
   "source": [
    "Skewness in data is a measure of the asymmetry or lack of symmetry in the distribution of data points within a dataset. It indicates whether the data is skewed to the left (negatively skewed), skewed to the right (positively skewed), or approximately symmetric (no skew). Skewness is an important concept in statistics and data analysis because it provides insights into the shape and distribution of the data."
   ]
  },
  {
   "cell_type": "markdown",
   "id": "66a849c8-56bf-4d49-8763-7fd886b4cf56",
   "metadata": {
    "jp-MarkdownHeadingCollapsed": true,
    "tags": []
   },
   "source": [
    "### Q9. If a data is right skewed then what will be the position of median with respect to mean?"
   ]
  },
  {
   "cell_type": "markdown",
   "id": "fc888ffc-93a2-4da3-8811-b4a8c356659b",
   "metadata": {},
   "source": [
    "Median is greater than mean"
   ]
  },
  {
   "cell_type": "markdown",
   "id": "f8119601-9f74-470d-bab8-b58eeb6e7ee0",
   "metadata": {
    "jp-MarkdownHeadingCollapsed": true,
    "tags": []
   },
   "source": [
    "### Q10. Explain the difference between covariance and correlation. How are these measures used in statistical analysis?"
   ]
  },
  {
   "cell_type": "markdown",
   "id": "03a6d90b-b643-4975-b28e-5067bf9f3a68",
   "metadata": {},
   "source": [
    "Covariance measures the direction of the relationship between two variables. It's affected by the units of measurement.\n",
    "\n",
    "Correlation measures both the strength and direction of the linear relationship between two variables. It's standardized and not affected by the units of measurement, making it easier to interpret and compare across different variable pairs."
   ]
  },
  {
   "cell_type": "markdown",
   "id": "29042314-29ab-4596-934a-ad88a42073d7",
   "metadata": {
    "jp-MarkdownHeadingCollapsed": true,
    "tags": []
   },
   "source": [
    "### Q11. What is the formula for calculating the sample mean? Provide an example calculation for a dataset."
   ]
  },
  {
   "cell_type": "markdown",
   "id": "2a27e674-f82e-4ff2-a3a4-bc7bbc802fca",
   "metadata": {},
   "source": [
    "The formula for calculating the sample mean, denoted as \"x̄\" (pronounced as \"x-bar\"), is:\n",
    "\n",
    "Sample Mean (x̄) = (Sum of all data points) / (Number of data points)\n",
    "\n",
    "Here's how to calculate the sample mean using this formula:\n",
    "\n",
    "Example Calculation:\n",
    "\n",
    "Let's calculate the sample mean for a dataset of exam scores:\n",
    "\n",
    "Dataset: [85, 90, 92, 88, 76, 95]\n",
    "\n",
    "Add up all the data points: 85 + 90 + 92 + 88 + 76 + 95 = 526.\n",
    "\n",
    "Count the number of data points, which is 6 in this case.\n",
    "\n",
    "Use the formula to calculate the sample mean:\n",
    "\n",
    "Sample Mean (x̄) = 526 (Sum) / 6 (Number of data points)\n",
    "Sample Mean (x̄) = 87.67 (rounded to two decimal places)"
   ]
  },
  {
   "cell_type": "markdown",
   "id": "49a8c920-219f-47ee-ba4d-ae8060499bf1",
   "metadata": {
    "jp-MarkdownHeadingCollapsed": true,
    "tags": []
   },
   "source": [
    "### Q12. For a normal distribution data what is the relationship between its measure of central tendency?"
   ]
  },
  {
   "cell_type": "markdown",
   "id": "b27599b0-dc3f-4f18-8fd5-b5c466cfda56",
   "metadata": {},
   "source": [
    "Mean is equal to median and is also equal to mode. All measure of central tendency lie on the same point and are equal."
   ]
  },
  {
   "cell_type": "markdown",
   "id": "d9f18b35-c977-4768-af19-946b1abe728c",
   "metadata": {},
   "source": [
    "### Q13. How is covariance different from correlation?"
   ]
  },
  {
   "cell_type": "markdown",
   "id": "dfb84856-e512-40c1-8963-b2a1fba4035b",
   "metadata": {},
   "source": [
    "Covariance measures the direction (positive or negative) of the relationship between two variables and is affected by the units of measurement.\n",
    "\n",
    "Correlation measures both the strength and direction of the linear relationship between two variables, is standardized, and is not affected by units, making it easier to interpret and compare across different variable pairs."
   ]
  },
  {
   "cell_type": "markdown",
   "id": "9350b9a8-e1c2-40c9-8a1b-8f2431b150c0",
   "metadata": {},
   "source": [
    "### Q14. How do outliers affect measures of central tendency and dispersion? Provide an example."
   ]
  },
  {
   "cell_type": "markdown",
   "id": "5e8ef1f7-857e-44a7-8f75-75af9b94a821",
   "metadata": {},
   "source": [
    "Outliers can significantly affect measures of central tendency and dispersion in a dataset.\n",
    "\n",
    "Measures of Central Tendency (e.g., mean, median, mode):\n",
    "Mean: Outliers can have a substantial impact on the mean. A single extreme value can pull the mean in its direction, making it higher or lower than what represents the typical value.\n",
    "Median: The median is less sensitive to outliers. It represents the middle value and is not influenced as much by extreme values.\n",
    "Mode: Outliers generally do not affect the mode, as it is determined by the most frequently occurring value.\n",
    "Example:\n",
    "Consider a dataset of income levels in a small town: [20,000, 30,000, 35,000, 40,000, 1,000,000]. The mean is significantly influenced by the outlier (1,000,000), making it much higher than the typical income. The median, however, remains close to the typical income level because it is not as sensitive to extreme values.\n",
    "\n",
    "Measures of Dispersion (e.g., range, variance, standard deviation):\n",
    "Range: Outliers can greatly impact the range. If there are extreme values, the range will be wider, indicating greater variability in the data.\n",
    "Variance and Standard Deviation: Outliers increase the variability in the data, resulting in higher variance and standard deviation values. They provide a less accurate measure of the typical spread when outliers are present.\n",
    "Example:\n",
    "In a dataset of test scores, most students score between 70 and 90, but there is one extreme outlier who scores 10. This outlier will significantly increase the range and also increase the variance and standard deviation, suggesting greater variability in the test scores than what is typical."
   ]
  }
 ],
 "metadata": {
  "kernelspec": {
   "display_name": "Python 3 (ipykernel)",
   "language": "python",
   "name": "python3"
  },
  "language_info": {
   "codemirror_mode": {
    "name": "ipython",
    "version": 3
   },
   "file_extension": ".py",
   "mimetype": "text/x-python",
   "name": "python",
   "nbconvert_exporter": "python",
   "pygments_lexer": "ipython3",
   "version": "3.10.8"
  }
 },
 "nbformat": 4,
 "nbformat_minor": 5
}
